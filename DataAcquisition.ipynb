{
 "cells": [
  {
   "cell_type": "markdown",
   "metadata": {},
   "source": [
    "# Introduction \n",
    "\n",
    "AirBnB is a technology company that is part of the fast growing ‘sharing economy’,\n",
    "where it acts as an ebroker, allowing anyone to rent out their property or a spare room in their\n",
    "house to guests, using their web or phone apps. They collect a small commision from each\n",
    "booking and they operate globally with over $2.6 billion in annual revenue. The goal of this\n",
    "project is to analyze Airbnb listing data to better understand the trends in pricing. The data is\n",
    "available from many cities, however we are choosing to focus on the pricing of properties in\n",
    "Metro Vancouver.\n",
    "\n",
    "# The Data & Initial Analysis\n",
    "\n",
    "The raw data that will be used comes from http://insideairbnb.com, where it is available as\n",
    "several different files. After obtaining the data we will inspect, clean and join it to produce a\n",
    "datatable with the variables we need. This will be followed by creating visual plots of the data.\n",
    "\n",
    "## Getting the data \n",
    "\n",
    "The data was obtained from the website and it came in the four files below\n",
    "\n",
    "- listings.csv.gz: _Detailed Listings data for Vancouver_\n",
    "- calendar.csv.gz: _Detailed Calendar Data for listings in Vancouver_\n",
    "- reviews.csv.gz: _Detailed Review Data for listings in Vancouver_\n",
    "- listings.csv: _Summary information and metrics for listings in Vancouver (good for visualisations)_\n",
    "- reviews.csv: _Summary Review data and Listing ID (to facilitate time based analytics and visualisations linked to a listing)_\n"
   ]
  },
  {
   "cell_type": "code",
   "execution_count": 1,
   "metadata": {},
   "outputs": [],
   "source": [
    "#get relevant packages\n",
    "import csv\n",
    "import pandas as pd\n",
    "import urllib.request\n",
    "import numpy as np\n",
    "import os"
   ]
  },
  {
   "cell_type": "code",
   "execution_count": null,
   "metadata": {},
   "outputs": [],
   "source": [
    "#Import data from website url for a given month to explore\n",
    "\n",
    "listing_full = 'http://data.insideairbnb.com/canada/bc/vancouver/2018-04-11/data/listings.csv.gz'\n",
    "calendar_full = 'http://data.insideairbnb.com/canada/bc/vancouver/2018-04-11/data/calendar.csv.gz'\n",
    "reviews_full = 'http://data.insideairbnb.com/canada/bc/vancouver/2018-04-11/data/reviews.csv.gz'\n",
    "\n",
    "listing_summary = 'http://data.insideairbnb.com/canada/bc/vancouver/2018-04-11/data/listings.csv'\n",
    "calendar_summary = 'http://data.insideairbnb.com/canada/bc/vancouver/2018-04-11/data/calendar.csv'\n",
    "review_summary = 'http://data.insideairbnb.com/canada/bc/vancouver/2018-04-11/data/reviews.csv'\n",
    "\n",
    "urls = [listing_full,listing_summary,calendar_full,calendar_summary,reviews_full,review_summary]\n",
    "\n",
    "dataframes = []\n",
    "for i in range(0,len(urls)):\n",
    "    if i/2 != 1:\n",
    "        dataframes.append(pd.read_csv(urls[i],sep=',', header=0))\n",
    "    else:\n",
    "        dataframes.append(pd.read_csv(urls[i],compression='gzip', header=0, sep=',', quotechar='\"', error_bad_lines=False))"
   ]
  },
  {
   "cell_type": "code",
   "execution_count": null,
   "metadata": {},
   "outputs": [],
   "source": [
    "listings = dataframes[0]\n",
    "calendar = dataframes[2]\n",
    "reviews = dataframes[4].iloc[:,[0,1,2,3]]"
   ]
  },
  {
   "cell_type": "code",
   "execution_count": null,
   "metadata": {},
   "outputs": [],
   "source": [
    "# relevant columns from lisiting\n",
    "col_idx = np.array([79,1,9,20,26,27,28,29,33,34,35,36,37,52,53,54,55,56,57,58,59,60,61,62,63,64,65,66,67,68,69,70,71,72,73,74,75,76,77,80,81,82,83,84,85,86,90,91,92,93,94,95,96])\n",
    "col_idx = col_idx - 1\n",
    "listings = listings.iloc[:,col_idx]"
   ]
  },
  {
   "cell_type": "code",
   "execution_count": null,
   "metadata": {},
   "outputs": [],
   "source": [
    "calendar.iloc[1:5,]"
   ]
  },
  {
   "cell_type": "code",
   "execution_count": null,
   "metadata": {},
   "outputs": [],
   "source": [
    "list(dataframes[3].head())"
   ]
  },
  {
   "cell_type": "code",
   "execution_count": null,
   "metadata": {},
   "outputs": [],
   "source": [
    "list(dataframes[4].head())"
   ]
  },
  {
   "cell_type": "code",
   "execution_count": null,
   "metadata": {},
   "outputs": [],
   "source": [
    "list(dataframes[5].head())"
   ]
  },
  {
   "cell_type": "code",
   "execution_count": null,
   "metadata": {},
   "outputs": [],
   "source": [
    "dataframes[5].head()"
   ]
  },
  {
   "cell_type": "markdown",
   "metadata": {},
   "source": [
    "From the column headers clearly only the listings.csv.gz files are of use for us. The above was for just a given time period. The next section will build a function that downloads all the relevant data to a directory for later use. "
   ]
  },
  {
   "cell_type": "markdown",
   "metadata": {},
   "source": [
    "# Functions to get the data "
   ]
  },
  {
   "cell_type": "code",
   "execution_count": null,
   "metadata": {},
   "outputs": [],
   "source": [
    "def download_listing(date):\n",
    "    \n",
    "    try:\n",
    "        url = 'http://data.insideairbnb.com/canada/bc/vancouver/'+ date + '/data/listings.csv.gz'\n",
    "        file_name = \"data/\"+date+\"listing.gz\"\n",
    "        urllib.request.urlretrieve(url, file_name)\n",
    "    except urllib.error.HTTPError as err:\n",
    "        if(err.code == 404):\n",
    "            pass\n",
    "        else:\n",
    "            print(err)\n",
    "\n",
    "def download_reviews(date):\n",
    "    \n",
    "    try:\n",
    "        url = 'http://data.insideairbnb.com/canada/bc/vancouver/'+ date + '/data/reviews.csv.gz'\n",
    "        file_name = \"data/reviews/\"+date+\"reviews.gz\"\n",
    "        urllib.request.urlretrieve(url, file_name)\n",
    "    except urllib.error.HTTPError as err:\n",
    "        if(err.code == 404):\n",
    "            pass\n",
    "        else:\n",
    "            print(err)\n",
    "\n",
    "            \n",
    "def download_calendar(date):\n",
    "    \n",
    "    try:\n",
    "        url = 'http://data.insideairbnb.com/canada/bc/vancouver/'+ date + '/data/calendar.csv.gz'\n",
    "        file_name = \"data/calendar/\"+date+\"calendar.gz\"\n",
    "        urllib.request.urlretrieve(url, file_name)\n",
    "    except urllib.error.HTTPError as err:\n",
    "        if(err.code == 404):\n",
    "            pass\n",
    "        else:\n",
    "            print(err)\n",
    "\n",
    "    \n"
   ]
  },
  {
   "cell_type": "markdown",
   "metadata": {},
   "source": [
    "# Merging the files\n",
    "Since there are several listing, calendar and review files it would be easier to merge the different types into one. \n",
    "\n",
    "ONLY RUN THIS ONCE! NEED TO KEEP WORKING ON THIS! "
   ]
  },
  {
   "cell_type": "code",
   "execution_count": 23,
   "metadata": {},
   "outputs": [
    {
     "name": "stderr",
     "output_type": "stream",
     "text": [
      "/Users/akshdeepsandhu/anaconda3/lib/python3.7/site-packages/ipykernel_launcher.py:8: FutureWarning: Sorting because non-concatenation axis is not aligned. A future version\n",
      "of pandas will change to not sort by default.\n",
      "\n",
      "To accept the future behavior, pass 'sort=False'.\n",
      "\n",
      "To retain the current behavior and silence the warning, pass 'sort=True'.\n",
      "\n",
      "  \n"
     ]
    }
   ],
   "source": [
    "#get all files in listings directory\n",
    "filenames = os.listdir('data/listings')\n",
    "\n",
    "#remove files that are not wanted\n",
    "filenames.pop(2)\n",
    "filenames.pop(len(filenames) - 9)\n",
    "\n",
    "#turn to string object\n",
    "str(filenames)\n",
    "\n",
    "#read all files and write them to a new csv\n",
    "combined_csv = pd.concat( [ pd.read_csv('data/listings/' + f) for f in filenames ] )\n",
    "combined_csv.to_csv( \"combined_listing.csv\", index=True )"
   ]
  },
  {
   "cell_type": "markdown",
   "metadata": {},
   "source": [
    "# ONLY RUN THE LOOP BELOW ONCE. IT WILL DOWNLOAD ALL THE DATA! IT WILL TAKE SOME TIME"
   ]
  },
  {
   "cell_type": "code",
   "execution_count": 9,
   "metadata": {},
   "outputs": [],
   "source": [
    "#Call functions to query data\n",
    "start = '2015-11-06'\n",
    "end = '2018-11-08'\n",
    "dates = pd.date_range(start, end)\n",
    "\n",
    "for date in dates:\n",
    "    download_reviews(str(date)[0:10])\n",
    "    download_calendar(str(date)[0:10])\n"
   ]
  },
  {
   "cell_type": "code",
   "execution_count": null,
   "metadata": {},
   "outputs": [],
   "source": [
    "# columns we want \n",
    "col_idx = np.array([79,1,9,20,26,27,28,29,33,34,35,36,37,52,53,54,55,56,57,58,59,60,61,62,63,64,65,66,67,68,69,70,71,72,73,74,75,76,77,80,81,82,83,84,85,86,90,91,92,93,94,95,96])\n",
    "col_idx = col_idx - 1\n"
   ]
  },
  {
   "cell_type": "code",
   "execution_count": null,
   "metadata": {},
   "outputs": [],
   "source": [
    "listings = dataframes[1]\n",
    "listings = listings.iloc[:,col_idx]"
   ]
  },
  {
   "cell_type": "code",
   "execution_count": null,
   "metadata": {},
   "outputs": [],
   "source": [
    "listings.iloc[1:5:]"
   ]
  },
  {
   "cell_type": "markdown",
   "metadata": {},
   "source": [
    "# TODO\n",
    "- Build a function that: Takes a .gz listings file -> gets the relevant columns -> writes them to a new text/csv file\n",
    "- Build function to get all the review data. Use the number of reviews left for a property and minimum number of nights to estimate how much someone is making. "
   ]
  },
  {
   "cell_type": "code",
   "execution_count": null,
   "metadata": {},
   "outputs": [],
   "source": []
  }
 ],
 "metadata": {
  "kernelspec": {
   "display_name": "Python 3",
   "language": "python",
   "name": "python3"
  },
  "language_info": {
   "codemirror_mode": {
    "name": "ipython",
    "version": 3
   },
   "file_extension": ".py",
   "mimetype": "text/x-python",
   "name": "python",
   "nbconvert_exporter": "python",
   "pygments_lexer": "ipython3",
   "version": "3.7.7"
  }
 },
 "nbformat": 4,
 "nbformat_minor": 4
}
